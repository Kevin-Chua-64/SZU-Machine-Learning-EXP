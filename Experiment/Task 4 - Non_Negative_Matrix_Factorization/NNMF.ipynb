{
 "cells": [
  {
   "cell_type": "code",
   "execution_count": 1,
   "id": "8e80bac9",
   "metadata": {
    "scrolled": false
   },
   "outputs": [
    {
     "name": "stdout",
     "output_type": "stream",
     "text": [
      "    area  perimeter  compactness  length  width  asymmetry_coefficient  \\\n",
      "0  15.26      14.84       0.8710   5.763  3.312                  2.221   \n",
      "1  14.88      14.57       0.8811   5.554  3.333                  1.018   \n",
      "2  14.29      14.09       0.9050   5.291  3.337                  2.699   \n",
      "3  13.84      13.94       0.8955   5.324  3.379                  2.259   \n",
      "4  16.14      14.99       0.9034   5.658  3.562                  1.355   \n",
      "\n",
      "   groove_length grain_variety  \n",
      "0          5.220    Kama wheat  \n",
      "1          4.956    Kama wheat  \n",
      "2          4.825    Kama wheat  \n",
      "3          4.805    Kama wheat  \n",
      "4          5.175    Kama wheat  \n"
     ]
    }
   ],
   "source": [
    "import pandas as pd\n",
    "import numpy as np\n",
    "from sklearn.metrics import silhouette_score\n",
    "import matplotlib.pyplot as plt\n",
    "\n",
    "df = pd.read_csv('./seeds.csv')\n",
    "print(df.head())\n",
    "\n",
    "# Features and variety\n",
    "target = df['grain_variety']\n",
    "data = np.array(df.drop('grain_variety', axis=1)).T"
   ]
  },
  {
   "cell_type": "code",
   "execution_count": 2,
   "id": "0ba83612",
   "metadata": {},
   "outputs": [
    {
     "data": {
      "image/png": "[encoded data removed]",
      "text/plain": [
       "<Figure size 576x216 with 1 Axes>"
      ]
     },
     "metadata": {
      "needs_background": "light"
     },
     "output_type": "display_data"
    }
   ],
   "source": [
    "# Non Negative Matrix Factorization\n",
    "def update_H(W, H, V):\n",
    "    numerator = W.T.dot(V)\n",
    "    denominator = W.T.dot(W).dot(H) + 1e-10\n",
    "    H = H*(numerator / denominator)\n",
    "    return H\n",
    "\n",
    "def update_W(W, H, V):\n",
    "    numerator = V.dot(H.T)\n",
    "    denominator = W.dot(H).dot(H.T) + 1e-10\n",
    "    W = W*(numerator / denominator)\n",
    "    return W\n",
    "\n",
    "def do_nnmf(V, rank=10, iter=100):\n",
    "    # Initialize \n",
    "    n, m = V.shape\n",
    "    W = np.abs(np.random.randn(1, n, rank))[0]\n",
    "    H = np.abs(np.random.randn(1, rank, m))[0]\n",
    "    \n",
    "    loss = []\n",
    "    for i in range(iter):\n",
    "        H = update_H(W, H, V)\n",
    "        W = update_W(W, H, V)\n",
    "        loss.append(sum((V - W.dot(H)).flatten()**2))\n",
    "    return H, W, loss\n",
    "\n",
    "# Perform NNMF\n",
    "repeat_times = 20 \n",
    "cluster_id = []\n",
    "for i in range(repeat_times):\n",
    "    H, W, loss = do_nnmf(data, rank=3, iter=500)\n",
    "    temp = []\n",
    "    for x in range(H.shape[1]):\n",
    "        temp.append(np.where(np.max(H[:, x]) == H[:, x])[0][0])\n",
    "    cluster_id.append(temp)\n",
    "\n",
    "# Calculate silhouette scores, draw a line chat and find the best\n",
    "silhouette_scores = [silhouette_score(data.T, label) for label in cluster_id]\n",
    "best_index = np.argmax(silhouette_scores)\n",
    "best_score = silhouette_scores[best_index]\n",
    "\n",
    "plt.figure(figsize=(8, 3))\n",
    "plt.plot(silhouette_scores)\n",
    "plt.xlabel('Times')\n",
    "plt.ylabel('Silhouette score')\n",
    "plt.plot(best_index, best_score, 'rs', label='Best score')\n",
    "plt.legend(loc=0)\n",
    "plt.show()"
   ]
  },
  {
   "cell_type": "code",
   "execution_count": 3,
   "id": "dcadd006",
   "metadata": {
    "scrolled": false
   },
   "outputs": [
    {
     "data": {
      "text/html": [
       "<div>\n",
       "<style scoped>\n",
       "    .dataframe tbody tr th:only-of-type {\n",
       "        vertical-align: middle;\n",
       "    }\n",
       "\n",
       "    .dataframe tbody tr th {\n",
       "        vertical-align: top;\n",
       "    }\n",
       "\n",
       "    .dataframe thead th {\n",
       "        text-align: right;\n",
       "    }\n",
       "</style>\n",
       "<table border=\"1\" class=\"dataframe\">\n",
       "  <thead>\n",
       "    <tr style=\"text-align: right;\">\n",
       "      <th>cluster_results</th>\n",
       "      <th>0</th>\n",
       "      <th>1</th>\n",
       "      <th>2</th>\n",
       "    </tr>\n",
       "    <tr>\n",
       "      <th>grain_variety</th>\n",
       "      <th></th>\n",
       "      <th></th>\n",
       "      <th></th>\n",
       "    </tr>\n",
       "  </thead>\n",
       "  <tbody>\n",
       "    <tr>\n",
       "      <th>Canadian wheat</th>\n",
       "      <td>51</td>\n",
       "      <td>19</td>\n",
       "      <td>0</td>\n",
       "    </tr>\n",
       "    <tr>\n",
       "      <th>Kama wheat</th>\n",
       "      <td>4</td>\n",
       "      <td>61</td>\n",
       "      <td>5</td>\n",
       "    </tr>\n",
       "    <tr>\n",
       "      <th>Rosa wheat</th>\n",
       "      <td>1</td>\n",
       "      <td>2</td>\n",
       "      <td>67</td>\n",
       "    </tr>\n",
       "  </tbody>\n",
       "</table>\n",
       "</div>"
      ],
      "text/plain": [
       "cluster_results   0   1   2\n",
       "grain_variety              \n",
       "Canadian wheat   51  19   0\n",
       "Kama wheat        4  61   5\n",
       "Rosa wheat        1   2  67"
      ]
     },
     "execution_count": 3,
     "metadata": {},
     "output_type": "execute_result"
    }
   ],
   "source": [
    "# The best cluster\n",
    "result = pd.Series(cluster_id[best_index], name='cluster_results')\n",
    "\n",
    "# Crosstab\n",
    "ct = pd.crosstab(target, result)\n",
    "ct"
   ]
  },
  {
   "cell_type": "code",
   "execution_count": null,
   "id": "930300ea",
   "metadata": {},
   "outputs": [],
   "source": []
  }
 ],
 "metadata": {
  "kernelspec": {
   "display_name": "Python 3 (ipykernel)",
   "language": "python",
   "name": "python3"
  },
  "language_info": {
   "codemirror_mode": {
    "name": "ipython",
    "version": 3
   },
   "file_extension": ".py",
   "mimetype": "text/x-python",
   "name": "python",
   "nbconvert_exporter": "python",
   "pygments_lexer": "ipython3",
   "version": "3.8.10"
  }
 },
 "nbformat": 4,
 "nbformat_minor": 5
}
