{
 "cells": [
  {
   "cell_type": "code",
   "execution_count": 1,
   "id": "8143f6bf",
   "metadata": {},
   "outputs": [
    {
     "name": "stdout",
     "output_type": "stream",
     "text": [
      "<class 'pandas.core.frame.DataFrame'>\n",
      "RangeIndex: 10000 entries, 0 to 9999\n",
      "Columns: 101 entries, loss to f99\n",
      "dtypes: float64(95), int64(6)\n",
      "memory usage: 7.7 MB\n",
      "None\n"
     ]
    }
   ],
   "source": [
    "import pandas as pd\n",
    "from sklearn import linear_model\n",
    "import numpy as np\n",
    "import warnings\n",
    "warnings.filterwarnings('ignore')\n",
    "\n",
    "# Load the data\n",
    "train = pd.read_csv('./train.csv')\n",
    "test = pd.read_csv('./test.csv')\n",
    "train = train.drop(['id'], axis=1)\n",
    "X_test = test.drop(['id'], axis=1)\n",
    "\n",
    "# Data information\n",
    "print(train.info())"
   ]
  },
  {
   "cell_type": "code",
   "execution_count": 2,
   "id": "c43cbe25",
   "metadata": {},
   "outputs": [
    {
     "name": "stdout",
     "output_type": "stream",
     "text": [
      "Ridge regression\n",
      "selected alpha = 30000.00\n"
     ]
    }
   ],
   "source": [
    "# Split features and targets\n",
    "X_train = train.drop(['loss'], axis=1)\n",
    "y_train = train['loss']\n",
    "\n",
    "# Ridge regression\n",
    "ridge = linear_model.RidgeCV(cv=10, alphas=[10000, 20000, 30000, 40000, 50000, 60000])\n",
    "print('Ridge regression')\n",
    "\n",
    "# Fit regression model to the training set\n",
    "ridge.fit(X_train, y_train)\n",
    "# Apply model to the test set\n",
    "ridge_pred = ridge.predict(X_test)\n",
    "\n",
    "# alpha, slope and intercept\n",
    "ridge_alpha = ridge.alpha_\n",
    "print('selected alpha = %.2f' % ridge_alpha)"
   ]
  },
  {
   "cell_type": "code",
   "execution_count": 3,
   "id": "35670dfd",
   "metadata": {},
   "outputs": [],
   "source": [
    "# Store\n",
    "df = pd.DataFrame(ridge_pred, index=test['id'], columns=[''])\n",
    "df.to_csv('./result.csv', sep=',', index=True, header=True)"
   ]
  }
 ],
 "metadata": {
  "kernelspec": {
   "display_name": "Python 3 (ipykernel)",
   "language": "python",
   "name": "python3"
  },
  "language_info": {
   "codemirror_mode": {
    "name": "ipython",
    "version": 3
   },
   "file_extension": ".py",
   "mimetype": "text/x-python",
   "name": "python",
   "nbconvert_exporter": "python",
   "pygments_lexer": "ipython3",
   "version": "3.8.10"
  }
 },
 "nbformat": 4,
 "nbformat_minor": 5
}
