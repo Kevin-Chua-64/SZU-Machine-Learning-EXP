{
 "cells": [
  {
   "cell_type": "code",
   "execution_count": 1,
   "id": "953f664a",
   "metadata": {},
   "outputs": [
    {
     "name": "stdout",
     "output_type": "stream",
     "text": [
      "<class 'pandas.core.frame.DataFrame'>\n",
      "RangeIndex: 699 entries, 0 to 698\n",
      "Data columns (total 11 columns):\n",
      " #   Column                       Non-Null Count  Dtype \n",
      "---  ------                       --------------  ----- \n",
      " 0   Sample code number           699 non-null    int64 \n",
      " 1   Clump Thickness              699 non-null    int64 \n",
      " 2   Uniformity of Cell Size      699 non-null    int64 \n",
      " 3   Uniformity of Cell Shape     699 non-null    int64 \n",
      " 4   Marginal Adhesion            699 non-null    int64 \n",
      " 5   Single Epithelial Cell Size  699 non-null    int64 \n",
      " 6   Bare Nuclei                  699 non-null    object\n",
      " 7   Bland Chromatin              699 non-null    int64 \n",
      " 8   Normal Nucleoli              699 non-null    int64 \n",
      " 9   Mitoses                      699 non-null    int64 \n",
      " 10  Class                        699 non-null    int64 \n",
      "dtypes: int64(10), object(1)\n",
      "memory usage: 60.2+ KB\n",
      "None\n",
      "   Sample code number  Clump Thickness  Uniformity of Cell Size  \\\n",
      "0             1000025                5                        1   \n",
      "1             1002945                5                        4   \n",
      "2             1015425                3                        1   \n",
      "3             1016277                6                        8   \n",
      "4             1017023                4                        1   \n",
      "\n",
      "   Uniformity of Cell Shape  Marginal Adhesion  Single Epithelial Cell Size  \\\n",
      "0                         1                  1                            2   \n",
      "1                         4                  5                            7   \n",
      "2                         1                  1                            2   \n",
      "3                         8                  1                            3   \n",
      "4                         1                  3                            2   \n",
      "\n",
      "  Bare Nuclei  Bland Chromatin  Normal Nucleoli  Mitoses  Class  \n",
      "0           1                3                1        1      2  \n",
      "1          10                3                2        1      2  \n",
      "2           2                3                1        1      2  \n",
      "3           4                3                7        1      2  \n",
      "4           1                3                1        1      2  \n"
     ]
    }
   ],
   "source": [
    "import pandas as pd\n",
    "import numpy as np\n",
    "from sklearn.model_selection import train_test_split\n",
    "\n",
    "data = pd.read_csv('./breast-cancer-wisconsin.csv')\n",
    "print(data.info())\n",
    "print(data.head())\n",
    "\n",
    "# Replace missing with the median \n",
    "data = data.replace('?', np.NaN)\n",
    "data = data.fillna(data.median()).astype(np.int64)\n",
    "# Drop 'Sample code number'\n",
    "data = data.drop('Sample code number', axis=1)\n",
    "\n",
    "# Split into training and testing sets\n",
    "X = data.iloc[:, : -1]\n",
    "y = data['Class']\n",
    "X_train, X_test, y_train, y_test = train_test_split(X, y, test_size=0.1, random_state=0)"
   ]
  },
  {
   "cell_type": "code",
   "execution_count": 2,
   "id": "b7ee7a13",
   "metadata": {},
   "outputs": [
    {
     "name": "stdout",
     "output_type": "stream",
     "text": [
      "Accuracy score: \n",
      "Gaussian Naive Bayes:  0.9428571428571428\n",
      "Multinomial Naive Bayes:  0.8571428571428571\n",
      "Bernoulli Naive Bayes:  0.6285714285714286\n"
     ]
    }
   ],
   "source": [
    "from sklearn.naive_bayes import GaussianNB, MultinomialNB, BernoulliNB\n",
    "from sklearn.metrics import accuracy_score\n",
    "\n",
    "# Gaussian Naive Bayes\n",
    "gnb = GaussianNB()\n",
    "gnb.fit(X_train, y_train)\n",
    "y_pred_gnb = gnb.predict(X_test)\n",
    "\n",
    "# Multinomial Naive Bayes\n",
    "mnb = MultinomialNB()\n",
    "mnb.fit(X_train, y_train)\n",
    "y_pred_mnb = mnb.predict(X_test)\n",
    "\n",
    "# Bernoulli Naive Bayes\n",
    "bnb = BernoulliNB()\n",
    "bnb.fit(X_train, y_train)\n",
    "y_pred_bnb = bnb.predict(X_test)\n",
    "\n",
    "# Accuracy_score\n",
    "print('Accuracy score: ')\n",
    "print('Gaussian Naive Bayes: ', accuracy_score(y_test,y_pred_gnb))\n",
    "print('Multinomial Naive Bayes: ', accuracy_score(y_test,y_pred_mnb))\n",
    "print('Bernoulli Naive Bayes: ', accuracy_score(y_test,y_pred_bnb))"
   ]
  },
  {
   "cell_type": "code",
   "execution_count": 3,
   "id": "3770838f",
   "metadata": {},
   "outputs": [
    {
     "name": "stdout",
     "output_type": "stream",
     "text": [
      "Mean scores through 10-fold cross validation: \n",
      "Gaussian Naive Bayes:  0.9599585921325052\n",
      "Multinomial Naive Bayes:  0.8970807453416149\n",
      "Bernoulli Naive Bayes:  0.6552173913043479\n"
     ]
    }
   ],
   "source": [
    "from sklearn.model_selection import cross_val_score\n",
    "import statistics as stat\n",
    "\n",
    "# Cross validation\n",
    "gnb_cross = cross_val_score(gnb, X, y, cv=10, scoring='accuracy')\n",
    "mnb_cross = cross_val_score(mnb, X, y, cv=10, scoring='accuracy')\n",
    "bnb_cross = cross_val_score(bnb, X, y, cv=10, scoring='accuracy')\n",
    "\n",
    "# Mean scores\n",
    "print('Mean scores through 10-fold cross validation: ')\n",
    "print('Gaussian Naive Bayes: ', stat.mean(gnb_cross))\n",
    "print('Multinomial Naive Bayes: ', stat.mean(mnb_cross))\n",
    "print('Bernoulli Naive Bayes: ', stat.mean(bnb_cross))"
   ]
  }
 ],
 "metadata": {
  "kernelspec": {
   "display_name": "Python 3 (ipykernel)",
   "language": "python",
   "name": "python3"
  },
  "language_info": {
   "codemirror_mode": {
    "name": "ipython",
    "version": 3
   },
   "file_extension": ".py",
   "mimetype": "text/x-python",
   "name": "python",
   "nbconvert_exporter": "python",
   "pygments_lexer": "ipython3",
   "version": "3.8.10"
  }
 },
 "nbformat": 4,
 "nbformat_minor": 5
}
