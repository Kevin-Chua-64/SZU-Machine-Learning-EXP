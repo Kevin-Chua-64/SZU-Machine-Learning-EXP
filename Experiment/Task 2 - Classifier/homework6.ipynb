{
 "cells": [
  {
   "cell_type": "code",
   "execution_count": 1,
   "id": "51cbfda9",
   "metadata": {},
   "outputs": [
    {
     "name": "stdout",
     "output_type": "stream",
     "text": [
      "   Sample code number  Clump Thickness  Uniformity of Cell Size  \\\n",
      "0             1000025                5                        1   \n",
      "1             1002945                5                        4   \n",
      "2             1015425                3                        1   \n",
      "3             1016277                6                        8   \n",
      "4             1017023                4                        1   \n",
      "\n",
      "   Uniformity of Cell Shape  Marginal Adhesion  Single Epithelial Cell Size  \\\n",
      "0                         1                  1                            2   \n",
      "1                         4                  5                            7   \n",
      "2                         1                  1                            2   \n",
      "3                         8                  1                            3   \n",
      "4                         1                  3                            2   \n",
      "\n",
      "  Bare Nuclei  Bland Chromatin  Normal Nucleoli  Mitoses  Class  \n",
      "0           1                3                1        1      2  \n",
      "1          10                3                2        1      2  \n",
      "2           2                3                1        1      2  \n",
      "3           4                3                7        1      2  \n",
      "4           1                3                1        1      2  \n",
      "\n",
      "In training set, made 19 errors out of 614, on instances (array([ 18,  25,  48,  76,  82,  94, 140, 141, 188, 209, 328, 329, 418,\n",
      "       456, 493, 515, 582, 586, 591], dtype=int64),)\n",
      "\n",
      "In testing set, made 1 errors out of 69, on instances (array([57], dtype=int64),)\n",
      "\n",
      "Error rates in training set: 0.031\n",
      "\n",
      "Error rates in testing set: 0.014\n"
     ]
    }
   ],
   "source": [
    "import pandas as pd\n",
    "from sklearn.model_selection import train_test_split\n",
    "from sklearn.linear_model import LogisticRegression\n",
    "import numpy as np\n",
    "from sklearn.metrics import zero_one_loss\n",
    "\n",
    "df = pd.read_csv('./breast-cancer-wisconsin.csv')\n",
    "print(df.head())\n",
    "\n",
    "# drop\n",
    "df = df[(df.astype(str) != '?').all(axis=1)].astype(int)\n",
    "\n",
    "# features and class\n",
    "X = df.iloc[:, 1: -1]\n",
    "y = df['Class']\n",
    "# feature normalization\n",
    "X = (X - X.mean(axis=0)) / X.std(axis=0)\n",
    "# split training set and test set\n",
    "X_train, X_test, y_train, y_test = train_test_split(X, y, test_size=0.1, random_state=0)\n",
    "\n",
    "# Logistic regression prediction\n",
    "regr = LogisticRegression(penalty='l2', multi_class='multinomial' ,solver='lbfgs', C=1000, random_state=0)\n",
    "regr.fit(X_train, y_train)\n",
    "\n",
    "y_train_predict = regr.predict(X_train)\n",
    "y_test_predict = regr.predict(X_test)\n",
    "\n",
    "# evaluate error\n",
    "train_err = (y_train_predict != y_train)\n",
    "train_errs = np.sum(train_err)\n",
    "test_err = (y_test_predict != y_test)\n",
    "test_errs = np.sum(test_err)\n",
    "print('\\nIn training set, made {} errors out of {}, on instances {}'.format(train_errs, len(y_train), np.where(train_err)))\n",
    "print('\\nIn testing set, made {} errors out of {}, on instances {}'.format(test_errs, len(y_test), np.where(test_err)))\n",
    "\n",
    "# error rate\n",
    "train_err_rate = zero_one_loss(y_train, y_train_predict)\n",
    "test_err_rate = zero_one_loss(y_test, y_test_predict)\n",
    "print('\\nError rates in training set: {:0.3f}'.format(train_err_rate))\n",
    "print('\\nError rates in testing set: {:0.3f}'.format(test_err_rate))"
   ]
  },
  {
   "cell_type": "code",
   "execution_count": null,
   "id": "ac20dd73",
   "metadata": {},
   "outputs": [],
   "source": []
  }
 ],
 "metadata": {
  "kernelspec": {
   "display_name": "Python 3 (ipykernel)",
   "language": "python",
   "name": "python3"
  },
  "language_info": {
   "codemirror_mode": {
    "name": "ipython",
    "version": 3
   },
   "file_extension": ".py",
   "mimetype": "text/x-python",
   "name": "python",
   "nbconvert_exporter": "python",
   "pygments_lexer": "ipython3",
   "version": "3.8.10"
  }
 },
 "nbformat": 4,
 "nbformat_minor": 5
}
