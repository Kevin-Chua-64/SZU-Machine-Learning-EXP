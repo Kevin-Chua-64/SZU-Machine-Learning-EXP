{
 "cells": [
  {
   "cell_type": "code",
   "execution_count": 1,
   "id": "4b45bc6f",
   "metadata": {},
   "outputs": [
    {
     "name": "stdout",
     "output_type": "stream",
     "text": [
      "   sepal length (cm)  sepal width (cm)  petal length (cm)  petal width (cm)  \\\n",
      "0                5.1               3.5                1.4               0.2   \n",
      "1                4.9               3.0                1.4               0.2   \n",
      "2                4.7               3.2                1.3               0.2   \n",
      "3                4.6               3.1                1.5               0.2   \n",
      "4                5.0               3.6                1.4               0.2   \n",
      "\n",
      "   target  \n",
      "0       0  \n",
      "1       0  \n",
      "2       0  \n",
      "3       0  \n",
      "4       0  \n",
      "<class 'pandas.core.frame.DataFrame'>\n",
      "RangeIndex: 150 entries, 0 to 149\n",
      "Data columns (total 5 columns):\n",
      " #   Column             Non-Null Count  Dtype  \n",
      "---  ------             --------------  -----  \n",
      " 0   sepal length (cm)  150 non-null    float64\n",
      " 1   sepal width (cm)   150 non-null    float64\n",
      " 2   petal length (cm)  150 non-null    float64\n",
      " 3   petal width (cm)   150 non-null    float64\n",
      " 4   target             150 non-null    int32  \n",
      "dtypes: float64(4), int32(1)\n",
      "memory usage: 5.4 KB\n",
      "None\n",
      "     sepal length (cm)  sepal width (cm)  petal length (cm)  petal width (cm)  \\\n",
      "145                6.7               3.0                5.2               2.3   \n",
      "146                6.3               2.5                5.0               1.9   \n",
      "147                6.5               3.0                5.2               2.0   \n",
      "148                6.2               3.4                5.4               2.3   \n",
      "149                5.9               3.0                5.1               1.8   \n",
      "\n",
      "     target  \n",
      "145       1  \n",
      "146       1  \n",
      "147       1  \n",
      "148       1  \n",
      "149       1  \n"
     ]
    }
   ],
   "source": [
    "from sklearn.datasets import load_iris\n",
    "import pandas as pd\n",
    "from sklearn.model_selection import train_test_split\n",
    "import warnings\n",
    "warnings.filterwarnings('ignore')\n",
    "iris = load_iris()\n",
    "\n",
    "# Generate the data\n",
    "df1 = pd.DataFrame(iris.data, columns=iris.feature_names)\n",
    "df1['target'] = iris.target\n",
    "print(df1.head())\n",
    "print(df1.info())\n",
    "\n",
    "# Converted to a binary classification problem \n",
    "df1['target'] = df1['target'].replace({2: 1})\n",
    "print(df1.tail())\n",
    "\n",
    "# Split into training and testing sets\n",
    "X = df1.drop('target', axis=1)\n",
    "y = df1['target']\n",
    "X_train, X_test, y_train, y_test = train_test_split(X, y, test_size=0.2, random_state=0)"
   ]
  },
  {
   "cell_type": "code",
   "execution_count": 2,
   "id": "aab6b510",
   "metadata": {},
   "outputs": [
    {
     "name": "stdout",
     "output_type": "stream",
     "text": [
      "AUC for training set: 1.000\n",
      "AUC for testing set: 1.000\n"
     ]
    },
    {
     "data": {
      "image/png": "[encoded data removed]",
      "text/plain": [
       "<Figure size 432x288 with 1 Axes>"
      ]
     },
     "metadata": {
      "needs_background": "light"
     },
     "output_type": "display_data"
    }
   ],
   "source": [
    "from sklearn.discriminant_analysis import LinearDiscriminantAnalysis\n",
    "from sklearn import metrics\n",
    "import matplotlib.pyplot as plt\n",
    "\n",
    "# Fit the LDA model\n",
    "clf = LinearDiscriminantAnalysis(n_components=1)\n",
    "model=clf.fit(X_train,y_train)\n",
    "\n",
    "# Prediction\n",
    "pred_train = model.predict(X_train)\n",
    "pred_test = model.predict(X_test)\n",
    "\n",
    "# Probability Prediction\n",
    "pred_prob_train = model.predict_proba(X_train)\n",
    "pred_prob_test = model.predict_proba(X_test)\n",
    "\n",
    "auc_train = metrics.roc_auc_score(y_train, pred_prob_train[:,1])\n",
    "auc_test = metrics.roc_auc_score(y_test, pred_prob_test[:,1])\n",
    "print('AUC for training set: %.3f' % auc_train)\n",
    "print('AUC for testing set: %.3f' % auc_test)\n",
    "\n",
    "# ROC curve\n",
    "fpr_train, tpr_train, thresholds = metrics.roc_curve(y_train, pred_prob_train[:,1])\n",
    "fpr_test, tpr_test, thresholds = metrics.roc_curve(y_test, pred_prob_test[:,1])\n",
    "plt.figure()\n",
    "plt.plot([0, 1], [0, 1], linestyle='--')\n",
    "plt.plot(fpr_train, tpr_train, marker='.', label = 'Training Data')\n",
    "plt.plot(fpr_test, tpr_test, marker='.', label = 'Test Data')\n",
    "plt.legend(loc=0)\n",
    "plt.show()"
   ]
  },
  {
   "cell_type": "code",
   "execution_count": 3,
   "id": "0e476d2e",
   "metadata": {},
   "outputs": [
    {
     "name": "stdout",
     "output_type": "stream",
     "text": [
      "   mean radius  mean texture  mean perimeter  mean area  mean smoothness  \\\n",
      "0        17.99         10.38          122.80     1001.0          0.11840   \n",
      "1        20.57         17.77          132.90     1326.0          0.08474   \n",
      "2        19.69         21.25          130.00     1203.0          0.10960   \n",
      "3        11.42         20.38           77.58      386.1          0.14250   \n",
      "4        20.29         14.34          135.10     1297.0          0.10030   \n",
      "\n",
      "   mean compactness  mean concavity  mean concave points  mean symmetry  \\\n",
      "0           0.27760          0.3001              0.14710         0.2419   \n",
      "1           0.07864          0.0869              0.07017         0.1812   \n",
      "2           0.15990          0.1974              0.12790         0.2069   \n",
      "3           0.28390          0.2414              0.10520         0.2597   \n",
      "4           0.13280          0.1980              0.10430         0.1809   \n",
      "\n",
      "   mean fractal dimension  ...  worst texture  worst perimeter  worst area  \\\n",
      "0                 0.07871  ...          17.33           184.60      2019.0   \n",
      "1                 0.05667  ...          23.41           158.80      1956.0   \n",
      "2                 0.05999  ...          25.53           152.50      1709.0   \n",
      "3                 0.09744  ...          26.50            98.87       567.7   \n",
      "4                 0.05883  ...          16.67           152.20      1575.0   \n",
      "\n",
      "   worst smoothness  worst compactness  worst concavity  worst concave points  \\\n",
      "0            0.1622             0.6656           0.7119                0.2654   \n",
      "1            0.1238             0.1866           0.2416                0.1860   \n",
      "2            0.1444             0.4245           0.4504                0.2430   \n",
      "3            0.2098             0.8663           0.6869                0.2575   \n",
      "4            0.1374             0.2050           0.4000                0.1625   \n",
      "\n",
      "   worst symmetry  worst fractal dimension  target  \n",
      "0          0.4601                  0.11890       0  \n",
      "1          0.2750                  0.08902       0  \n",
      "2          0.3613                  0.08758       0  \n",
      "3          0.6638                  0.17300       0  \n",
      "4          0.2364                  0.07678       0  \n",
      "\n",
      "[5 rows x 31 columns]\n"
     ]
    }
   ],
   "source": [
    "from sklearn.datasets import load_breast_cancer \n",
    "cancer = load_breast_cancer()\n",
    "\n",
    "# Generate the data\n",
    "df2 = pd.DataFrame(cancer.data, columns=cancer.feature_names)\n",
    "df2['target'] = cancer.target\n",
    "print(df2.head())\n",
    "\n",
    "# Split into training and testing sets\n",
    "X = df2.drop('target', axis=1)\n",
    "y = df2['target']\n",
    "X_train, X_test, y_train, y_test = train_test_split(X, y, test_size=0.2, random_state=0)"
   ]
  },
  {
   "cell_type": "code",
   "execution_count": 4,
   "id": "98751804",
   "metadata": {
    "code_folding": []
   },
   "outputs": [
    {
     "name": "stdout",
     "output_type": "stream",
     "text": [
      "The best k: 9\n"
     ]
    },
    {
     "data": {
      "image/png": "[encoded data removed]",
      "text/plain": [
       "<Figure size 432x288 with 1 Axes>"
      ]
     },
     "metadata": {
      "needs_background": "light"
     },
     "output_type": "display_data"
    }
   ],
   "source": [
    "from sklearn.neighbors import KNeighborsClassifier as KNN\n",
    "from sklearn.model_selection import cross_val_score\n",
    "import numpy as np\n",
    "\n",
    "# Cross validation with different k\n",
    "ks = [1, 5, 9, 13, 15]\n",
    "scores = []\n",
    "for k in ks:\n",
    "    knn = KNN(n_neighbors=k)\n",
    "    score = cross_val_score(knn, X_train, y_train, cv=5)\n",
    "    scores.append(1 - score.mean())\n",
    "plt.figure()\n",
    "plt.plot(ks, scores, 'ko-')\n",
    "plt.xlabel('k')\n",
    "plt.ylabel('error rate')\n",
    "plt.title('Error rate with 5-fold cross validation')\n",
    "\n",
    "# The best k\n",
    "min_k = ks[np.argmin(scores)]\n",
    "print('The best k:', min_k)"
   ]
  },
  {
   "cell_type": "code",
   "execution_count": 5,
   "id": "08f77a3d",
   "metadata": {},
   "outputs": [
    {
     "name": "stdout",
     "output_type": "stream",
     "text": [
      "Error rate in testing set with best k: 0.03508771929824561\n"
     ]
    }
   ],
   "source": [
    "# A classifier with best k\n",
    "knn = KNN(n_neighbors = min_k)\n",
    "knn.fit(X_train, y_train)\n",
    "\n",
    "# Test error\n",
    "err = 1 - knn.score(X_test, y_test)\n",
    "print('Error rate in testing set with best k:', err)"
   ]
  }
 ],
 "metadata": {
  "kernelspec": {
   "display_name": "Python 3 (ipykernel)",
   "language": "python",
   "name": "python3"
  },
  "language_info": {
   "codemirror_mode": {
    "name": "ipython",
    "version": 3
   },
   "file_extension": ".py",
   "mimetype": "text/x-python",
   "name": "python",
   "nbconvert_exporter": "python",
   "pygments_lexer": "ipython3",
   "version": "3.8.10"
  }
 },
 "nbformat": 4,
 "nbformat_minor": 5
}
