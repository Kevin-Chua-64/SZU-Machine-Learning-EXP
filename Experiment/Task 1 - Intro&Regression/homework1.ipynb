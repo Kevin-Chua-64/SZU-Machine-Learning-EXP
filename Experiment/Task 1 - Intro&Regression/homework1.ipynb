{
 "cells": [
  {
   "cell_type": "code",
   "execution_count": 1,
   "id": "5adb0cd6",
   "metadata": {},
   "outputs": [
    {
     "name": "stdout",
     "output_type": "stream",
     "text": [
      "[('No', 'Single', '75', 'No'), ('Yes', 'Married', '50', 'No'), ('No', 'Married', '150', 'No'), ('Yes', 'Divorced', '90', 'No'), ('No', 'Single', '40', 'No'), ('No', 'Married', '80', 'No')]\n",
      "[('No', 'Single', '75', 'No'), ('Yes', 'Married', '50', 'No'), ('No', 'Married', '150', 'No'), ('Yes', 'Divorced', '90', 'No'), ('No', 'Single', '40', 'No'), ('No', 'Married', '80', 'No')]\n"
     ]
    }
   ],
   "source": [
    "# This is a decision tree\n",
    "\n",
    "# This is the test set\n",
    "test_data = [('No', 'Single', '75'),\n",
    "             ('Yes', 'Married', '50'),\n",
    "             ('No', 'Married', '150'),\n",
    "             ('Yes', 'Divorced', '90'),\n",
    "             ('No', 'Single', '40'), \n",
    "             ('No', 'Married', '80')]\n",
    "with open('test_data.txt', 'w') as f:\n",
    "    f.write('\\n'.join('%s,%s,%s' % i for i in test_data))\n",
    "    \n",
    "# Model 1 and test\n",
    "with open('test_data.txt', 'r') as f:\n",
    "    i = 0\n",
    "    result_1 = []\n",
    "    for line in f:\n",
    "        data = line.split(sep=',')\n",
    "        data[2] = str(int(data[2]))\n",
    "        result_1.append(tuple(data))\n",
    "        if data[0] == 'Yes':\n",
    "            result_1[i] += ('No',)\n",
    "        else:\n",
    "            if data[1] == 'Married':\n",
    "                result_1[i] += ('No',)\n",
    "            else:\n",
    "                if int(data[2]) < 80:\n",
    "                    result_1[i] += ('No',)\n",
    "                else:\n",
    "                    result_1[i] += ('Yes',)\n",
    "        i += 1\n",
    "\n",
    "print(result_1)\n",
    "with open('result_1.txt', 'w') as f:\n",
    "    f.write('\\n'.join('%s,%s,%s,%s' % i for i in result_1))\n",
    "\n",
    "# Model 2 and test\n",
    "with open('test_data.txt', 'r') as f:\n",
    "    i = 0\n",
    "    result_2 = []\n",
    "    for line in f:\n",
    "        data = line.split(sep=',')\n",
    "        data[2] = str(int(data[2]))\n",
    "        result_2.append(tuple(data))\n",
    "        if data[1] == 'Married':\n",
    "            result_2[i] += ('No',)\n",
    "        else:\n",
    "            if data[0] == 'Yes':\n",
    "                result_2[i] += ('No',)\n",
    "            else:\n",
    "                if int(data[2]) < 80:\n",
    "                    result_2[i] += ('No',)\n",
    "                else:\n",
    "                    result_2[i] += ('Yes',)\n",
    "        i += 1\n",
    "\n",
    "print(result_2)\n",
    "with open('result_2.txt', 'w') as f:\n",
    "    f.write('\\n'.join('%s,%s,%s,%s' % i for i in result_2))"
   ]
  },
  {
   "cell_type": "code",
   "execution_count": null,
   "id": "9e616a0d",
   "metadata": {},
   "outputs": [],
   "source": []
  }
 ],
 "metadata": {
  "kernelspec": {
   "display_name": "Python 3 (ipykernel)",
   "language": "python",
   "name": "python3"
  },
  "language_info": {
   "codemirror_mode": {
    "name": "ipython",
    "version": 3
   },
   "file_extension": ".py",
   "mimetype": "text/x-python",
   "name": "python",
   "nbconvert_exporter": "python",
   "pygments_lexer": "ipython3",
   "version": "3.8.10"
  }
 },
 "nbformat": 4,
 "nbformat_minor": 5
}
