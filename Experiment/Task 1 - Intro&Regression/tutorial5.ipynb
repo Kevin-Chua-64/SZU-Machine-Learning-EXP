{
 "cells": [
  {
   "cell_type": "markdown",
   "metadata": {},
   "source": [
    "# Module 5: Regression\n",
    "\n",
    "The following tutorial contains Python examples for solving regression problems. \n",
    "Regression is a modeling technique for predicting quantitative-valued target attributes. The goals for this tutorial are as follows:\n",
    "1. To provide examples of using different regression methods from the scikit-learn library package.\n",
    "2. To demonstrate the problem of model overfitting due to correlated attributes in the data.\n",
    "3. To illustrate how regularization can be used to avoid model overfitting. \n",
    "\n",
    "Read the step-by-step instructions below carefully. To execute the code, click on the corresponding cell and press the SHIFT-ENTER keys simultaneously."
   ]
  },
  {
   "cell_type": "markdown",
   "metadata": {},
   "source": [
    "## 5.1 Synthetic Data Generation\n",
    "\n",
    "To illustrate how linear regression works, we first generate a random 1-dimensional vector of predictor variables, x, from a uniform distribution. The response variable y has a linear relationship with x according to the following equation:  y = -3x + 1 + epsilon, where epsilon corresponds to random noise sampled from a Gaussian distribution with mean 0 and standard deviation of 1. "
   ]
  },
  {
   "cell_type": "code",
   "execution_count": 1,
   "metadata": {
    "scrolled": true
   },
   "outputs": [
    {
     "data": {
      "text/plain": [
       "Text(0, 0.5, 'y')"
      ]
     },
     "execution_count": 1,
     "metadata": {},
     "output_type": "execute_result"
    },
    {
     "data": {
      "image/png": "[encoded data removed]",
      "text/plain": [
       "<Figure size 432x288 with 1 Axes>"
      ]
     },
     "metadata": {
      "needs_background": "light"
     },
     "output_type": "display_data"
    }
   ],
   "source": [
    "%matplotlib inline\n",
    "import numpy as np\n",
    "import matplotlib.pyplot as plt\n",
    "\n",
    "seed = 1            # seed for random number generation \n",
    "numInstances = 200  # number of data instances\n",
    "np.random.seed(seed)\n",
    "X = np.random.rand(numInstances,1).reshape(-1,1)\n",
    "y_true = -3*X + 1 \n",
    "y = y_true + np.random.normal(size=numInstances).reshape(-1,1)\n",
    "\n",
    "plt.scatter(X, y,  color='black')\n",
    "plt.plot(X, y_true, color='blue', linewidth=3)\n",
    "plt.title('True function: y = -3X + 1')\n",
    "plt.xlabel('X')\n",
    "plt.ylabel('y')"
   ]
  },
  {
   "cell_type": "code",
   "execution_count": 2,
   "metadata": {},
   "outputs": [
    {
     "data": {
      "text/plain": [
       "array([[-0.77785883],\n",
       "       [-1.68405999],\n",
       "       [ 0.92061512],\n",
       "       [-0.53302033],\n",
       "       [ 0.05340954]])"
      ]
     },
     "execution_count": 2,
     "metadata": {},
     "output_type": "execute_result"
    }
   ],
   "source": [
    "import matplotlib.pyplot as plt\n",
    "from sklearn.datasets import make_regression\n",
    "data, targets = make_regression(n_samples=100, \n",
    "                                n_features=1, \n",
    "                                noise=0.1,bias=1)\n",
    "\n",
    "data[:5]"
   ]
  },
  {
   "cell_type": "code",
   "execution_count": 3,
   "metadata": {},
   "outputs": [
    {
     "data": {
      "image/png": "[encoded data removed]",
      "text/plain": [
       "<Figure size 432x288 with 1 Axes>"
      ]
     },
     "metadata": {
      "needs_background": "light"
     },
     "output_type": "display_data"
    }
   ],
   "source": [
    "plt.scatter(data, targets)\n",
    "plt.show()"
   ]
  },
  {
   "cell_type": "markdown",
   "metadata": {},
   "source": [
    "n_samples：Number of samples\n",
    "\n",
    "n_features：Number of features (number of independent variables)\n",
    "\n",
    "n_informative：Number of features involved in modeling\n",
    "\n",
    "n_targets：Number of dependent variables\n",
    "\n",
    "noise\n",
    "\n",
    "bias\n",
    "\n",
    "coef：Whether to output the coef identifier\n",
    "\n",
    "random_state：If the random state is fixed the data will be the same every time"
   ]
  },
  {
   "cell_type": "markdown",
   "metadata": {},
   "source": [
    "## 5.2 Multiple Linear Regression\n",
    "\n",
    "In this example, we illustrate how to use Python scikit-learn package to fit a multiple linear regression (MLR) model. Given a training set {X,y}, MLR is designed to learn the regression function $f(X,w) = X^T w + w_0$ by minimizing the following loss function given a training set $\\{X_i,y_i\\}_{i=1}^N$:\n",
    "$$L(y,f(X,w)) = \\sum_{i=1}^N \\|y_i - X_i w - w_0\\|^2,$$\n",
    "where $w$ (slope) and $w_0$ (intercept) are the regression coefficients.\n",
    "\n",
    "Given the input dataset, the following steps are performed:\n",
    "1. Split the input data into their respective training and test sets.\n",
    "2. Fit multiple linear regression to the training data.\n",
    "3. Apply the model to the test data.\n",
    "4. Evaluate the performance of the model.\n",
    "5. Postprocessing: Visualizing the fitted model."
   ]
  },
  {
   "cell_type": "markdown",
   "metadata": {},
   "source": [
    "#### Step 1: Split Input Data into Training and Test Sets"
   ]
  },
  {
   "cell_type": "code",
   "execution_count": 4,
   "metadata": {},
   "outputs": [
    {
     "data": {
      "text/plain": [
       "array([[0.80074457],\n",
       "       [0.96826158],\n",
       "       [0.31342418],\n",
       "       [0.69232262],\n",
       "       [0.87638915],\n",
       "       [0.89460666],\n",
       "       [0.08504421],\n",
       "       [0.03905478],\n",
       "       [0.16983042],\n",
       "       [0.8781425 ],\n",
       "       [0.09834683],\n",
       "       [0.42110763],\n",
       "       [0.95788953],\n",
       "       [0.53316528],\n",
       "       [0.69187711],\n",
       "       [0.31551563],\n",
       "       [0.68650093],\n",
       "       [0.83462567],\n",
       "       [0.01828828],\n",
       "       [0.75014431],\n",
       "       [0.98886109],\n",
       "       [0.74816565],\n",
       "       [0.28044399],\n",
       "       [0.78927933],\n",
       "       [0.10322601],\n",
       "       [0.44789353],\n",
       "       [0.9085955 ],\n",
       "       [0.29361415],\n",
       "       [0.28777534],\n",
       "       [0.13002857],\n",
       "       [0.01936696],\n",
       "       [0.67883553],\n",
       "       [0.21162812],\n",
       "       [0.26554666],\n",
       "       [0.49157316],\n",
       "       [0.05336255],\n",
       "       [0.57411761],\n",
       "       [0.14672857],\n",
       "       [0.58930554],\n",
       "       [0.69975836],\n",
       "       [0.10233443],\n",
       "       [0.41405599],\n",
       "       [0.69440016],\n",
       "       [0.41417927],\n",
       "       [0.04995346],\n",
       "       [0.53589641],\n",
       "       [0.66379465],\n",
       "       [0.51488911],\n",
       "       [0.94459476],\n",
       "       [0.58655504],\n",
       "       [0.90340192],\n",
       "       [0.1374747 ],\n",
       "       [0.13927635],\n",
       "       [0.80739129],\n",
       "       [0.39767684],\n",
       "       [0.1653542 ],\n",
       "       [0.92750858],\n",
       "       [0.34776586],\n",
       "       [0.7508121 ],\n",
       "       [0.72599799],\n",
       "       [0.88330609],\n",
       "       [0.62367221],\n",
       "       [0.75094243],\n",
       "       [0.34889834],\n",
       "       [0.26992789],\n",
       "       [0.89588622],\n",
       "       [0.42809119],\n",
       "       [0.96484005],\n",
       "       [0.6634415 ],\n",
       "       [0.62169572],\n",
       "       [0.11474597],\n",
       "       [0.94948926],\n",
       "       [0.44991213],\n",
       "       [0.57838961],\n",
       "       [0.4081368 ],\n",
       "       [0.23702698],\n",
       "       [0.90337952],\n",
       "       [0.57367949],\n",
       "       [0.00287033],\n",
       "       [0.61714491],\n",
       "       [0.3266449 ],\n",
       "       [0.5270581 ],\n",
       "       [0.8859421 ],\n",
       "       [0.35726976],\n",
       "       [0.90853515],\n",
       "       [0.62336012],\n",
       "       [0.01582124],\n",
       "       [0.92943723],\n",
       "       [0.69089692],\n",
       "       [0.99732285],\n",
       "       [0.17234051],\n",
       "       [0.13713575],\n",
       "       [0.93259546],\n",
       "       [0.69681816],\n",
       "       [0.06600017],\n",
       "       [0.75546305],\n",
       "       [0.75387619],\n",
       "       [0.92302454],\n",
       "       [0.71152476],\n",
       "       [0.12427096],\n",
       "       [0.01988013],\n",
       "       [0.02621099],\n",
       "       [0.02830649],\n",
       "       [0.24621107],\n",
       "       [0.86002795],\n",
       "       [0.53883106],\n",
       "       [0.55282198],\n",
       "       [0.84203089],\n",
       "       [0.12417332],\n",
       "       [0.27918368],\n",
       "       [0.58575927],\n",
       "       [0.96959575],\n",
       "       [0.56103022],\n",
       "       [0.01864729],\n",
       "       [0.80063267],\n",
       "       [0.23297427],\n",
       "       [0.8071052 ],\n",
       "       [0.38786064],\n",
       "       [0.86354185],\n",
       "       [0.74712164],\n",
       "       [0.55624023],\n",
       "       [0.13645523],\n",
       "       [0.05991769],\n",
       "       [0.12134346],\n",
       "       [0.04455188],\n",
       "       [0.10749413],\n",
       "       [0.22570934],\n",
       "       [0.71298898],\n",
       "       [0.55971698],\n",
       "       [0.01255598],\n",
       "       [0.07197428],\n",
       "       [0.96727633],\n",
       "       [0.56810046],\n",
       "       [0.20329323],\n",
       "       [0.25232574],\n",
       "       [0.74382585],\n",
       "       [0.19542948],\n",
       "       [0.58135893],\n",
       "       [0.97001999],\n",
       "       [0.8468288 ],\n",
       "       [0.23984776],\n",
       "       [0.49376971],\n",
       "       [0.61995572],\n",
       "       [0.8289809 ],\n",
       "       [0.15679139],\n",
       "       [0.0185762 ],\n",
       "       [0.07002214],\n",
       "       [0.48634511],\n",
       "       [0.60632946],\n",
       "       [0.56885144],\n",
       "       [0.31736241],\n",
       "       [0.98861615],\n",
       "       [0.57974522],\n",
       "       [0.38014117],\n",
       "       [0.55094822],\n",
       "       [0.74533443],\n",
       "       [0.66923289],\n",
       "       [0.26491956],\n",
       "       [0.06633483],\n",
       "       [0.3700842 ],\n",
       "       [0.62971751],\n",
       "       [0.21017401],\n",
       "       [0.75275555],\n",
       "       [0.06653648],\n",
       "       [0.2603151 ],\n",
       "       [0.80475456],\n",
       "       [0.19343428],\n",
       "       [0.63946088],\n",
       "       [0.52467031],\n",
       "       [0.92480797],\n",
       "       [0.26329677],\n",
       "       [0.06596109],\n",
       "       [0.73506596],\n",
       "       [0.77217803],\n",
       "       [0.90781585],\n",
       "       [0.93197207],\n",
       "       [0.01395157],\n",
       "       [0.23436209],\n",
       "       [0.61677836],\n",
       "       [0.94901632]])"
      ]
     },
     "execution_count": 4,
     "metadata": {},
     "output_type": "execute_result"
    }
   ],
   "source": [
    "numTrain = 20   # number of training instances\n",
    "numTest = numInstances - numTrain\n",
    "\n",
    "X_train = X[:-numTest]\n",
    "X_test = X[-numTest:]\n",
    "y_train = y[:-numTest]\n",
    "y_test = y[-numTest:]\n",
    "X_test"
   ]
  },
  {
   "cell_type": "markdown",
   "metadata": {},
   "source": [
    "#### Step 2: Fit Regression Model to Training Set"
   ]
  },
  {
   "cell_type": "code",
   "execution_count": 5,
   "metadata": {},
   "outputs": [
    {
     "data": {
      "text/plain": [
       "LinearRegression()"
      ]
     },
     "execution_count": 5,
     "metadata": {},
     "output_type": "execute_result"
    }
   ],
   "source": [
    "from sklearn import linear_model\n",
    "from sklearn.metrics import mean_squared_error, r2_score\n",
    "\n",
    "# Create linear regression object\n",
    "regr = linear_model.LinearRegression()\n",
    "\n",
    "# Fit regression model to the training set\n",
    "regr.fit(X_train, y_train)"
   ]
  },
  {
   "cell_type": "markdown",
   "metadata": {},
   "source": [
    "#### Step 3: Apply Model to the Test Set "
   ]
  },
  {
   "cell_type": "code",
   "execution_count": 6,
   "metadata": {},
   "outputs": [],
   "source": [
    "# Apply model to the test set\n",
    "y_pred_test = regr.predict(X_test)"
   ]
  },
  {
   "cell_type": "markdown",
   "metadata": {},
   "source": [
    "#### Step 4: Evaluate Model Performance on Test Set"
   ]
  },
  {
   "cell_type": "code",
   "execution_count": 7,
   "metadata": {
    "scrolled": true
   },
   "outputs": [
    {
     "name": "stdout",
     "output_type": "stream",
     "text": [
      "Root mean squared error = 1.0476\n",
      "R-squared = 0.4443\n"
     ]
    },
    {
     "data": {
      "image/png": "[encoded data removed]",
      "text/plain": [
       "<Figure size 432x288 with 1 Axes>"
      ]
     },
     "metadata": {
      "needs_background": "light"
     },
     "output_type": "display_data"
    }
   ],
   "source": [
    "# Comparing true versus predicted values\n",
    "plt.scatter(y_test, y_pred_test, color='black')\n",
    "plt.title('Comparing true and predicted values for test set')\n",
    "plt.xlabel('True values for y')\n",
    "plt.ylabel('Predicted values for y')\n",
    "\n",
    "# Model evaluation\n",
    "print(\"Root mean squared error = %.4f\" % np.sqrt(mean_squared_error(y_test, y_pred_test)))\n",
    "print('R-squared = %.4f' % r2_score(y_test, y_pred_test))"
   ]
  },
  {
   "cell_type": "markdown",
   "metadata": {},
   "source": [
    "#### Step 5: Postprocessing"
   ]
  },
  {
   "cell_type": "code",
   "execution_count": 8,
   "metadata": {},
   "outputs": [
    {
     "name": "stdout",
     "output_type": "stream",
     "text": [
      "Slope =  -3.2423545446565036\n",
      "Intercept =  1.0805993038584842\n"
     ]
    },
    {
     "data": {
      "text/plain": [
       "Text(0, 0.5, 'y')"
      ]
     },
     "execution_count": 8,
     "metadata": {},
     "output_type": "execute_result"
    },
    {
     "data": {
      "image/png": "[encoded data removed]",
      "text/plain": [
       "<Figure size 432x288 with 1 Axes>"
      ]
     },
     "metadata": {
      "needs_background": "light"
     },
     "output_type": "display_data"
    }
   ],
   "source": [
    "# Display model parameters\n",
    "print('Slope = ', regr.coef_[0][0])\n",
    "print('Intercept = ', regr.intercept_[0])### Step 4: Postprocessing\n",
    "\n",
    "# Plot outputs\n",
    "plt.scatter(X_test, y_test,  color='black')\n",
    "plt.plot(X_test, y_pred_test, color='blue', linewidth=3)\n",
    "titlestr = 'Predicted Function: y = %.2fX + %.2f' % (regr.coef_[0], regr.intercept_[0])\n",
    "plt.title(titlestr)\n",
    "plt.xlabel('X')\n",
    "plt.ylabel('y')"
   ]
  },
  {
   "cell_type": "markdown",
   "metadata": {},
   "source": [
    "## 5.3 Effect of Correlated Attributes\n",
    "\n",
    "In this example, we illustrate how the presence of correlated attributes can affect the performance of regression models. Specifically, we create 4 additional variables, X2, X3, X4, and X5 that are strongly correlated with the previous variable X created in Section 5.1. The relationship between X and y remains the same as before. We then fit y against the predictor variables and compare their training and test set errors. \n",
    "\n",
    "First, we create the correlated attributes below."
   ]
  },
  {
   "cell_type": "code",
   "execution_count": 9,
   "metadata": {},
   "outputs": [
    {
     "data": {
      "text/plain": [
       "Text(0.5, 1.0, 'Correlation between X4 and X5 = 0.9190')"
      ]
     },
     "execution_count": 9,
     "metadata": {},
     "output_type": "execute_result"
    },
    {
     "data": {
      "image/png": "[encoded data removed]",
      "text/plain": [
       "<Figure size 864x648 with 4 Axes>"
      ]
     },
     "metadata": {
      "needs_background": "light"
     },
     "output_type": "display_data"
    }
   ],
   "source": [
    "seed = 1\n",
    "np.random.seed(seed)\n",
    "X2 = 0.5*X + np.random.normal(0, 0.04, size=numInstances).reshape(-1,1)\n",
    "X3 = 0.5*X2 + np.random.normal(0, 0.01, size=numInstances).reshape(-1,1)\n",
    "X4 = 0.5*X3 + np.random.normal(0, 0.01, size=numInstances).reshape(-1,1)\n",
    "X5 = 0.5*X4 + np.random.normal(0, 0.01, size=numInstances).reshape(-1,1)\n",
    "\n",
    "fig, ((ax1, ax2),(ax3,ax4)) = plt.subplots(2, 2, figsize=(12,9))\n",
    "ax1.scatter(X, X2, color='black')\n",
    "ax1.set_xlabel('X')\n",
    "ax1.set_ylabel('X2')\n",
    "c = np.corrcoef(np.column_stack((X[:-numTest],X2[:-numTest])).T)\n",
    "titlestr = 'Correlation between X and X2 = %.4f' % (c[0,1])\n",
    "ax1.set_title(titlestr)\n",
    "\n",
    "ax2.scatter(X2, X3, color='black')\n",
    "ax2.set_xlabel('X2')\n",
    "ax2.set_ylabel('X3')\n",
    "c = np.corrcoef(np.column_stack((X2[:-numTest],X3[:-numTest])).T)\n",
    "titlestr = 'Correlation between X2 and X3 = %.4f' % (c[0,1])\n",
    "ax2.set_title(titlestr)\n",
    "\n",
    "ax3.scatter(X3, X4, color='black')\n",
    "ax3.set_xlabel('X3')\n",
    "ax3.set_ylabel('X4')\n",
    "c = np.corrcoef(np.column_stack((X3[:-numTest],X4[:-numTest])).T)\n",
    "titlestr = 'Correlation between X3 and X4 = %.4f' % (c[0,1])\n",
    "ax3.set_title(titlestr)\n",
    "\n",
    "ax4.scatter(X4, X5, color='black')\n",
    "ax4.set_xlabel('X4')\n",
    "ax4.set_ylabel('X5')\n",
    "c = np.corrcoef(np.column_stack((X4[:-numTest],X5[:-numTest])).T)\n",
    "titlestr = 'Correlation between X4 and X5 = %.4f' % (c[0,1])\n",
    "ax4.set_title(titlestr)"
   ]
  },
  {
   "cell_type": "markdown",
   "metadata": {},
   "source": [
    "Next, we create 4 additional versions of the training and test sets. The first version, X_train2 and X_test2 have 2 correlated predictor variables, X and X2. The second version, X_train3 and X_test3 have 3 correlated predictor variables, X, X2, and X3. The third version have 4 correlated variables, X, X2, X3, and X4 whereas the last version have 5 correlated variables, X, X2, X3, X4, and X5. "
   ]
  },
  {
   "cell_type": "code",
   "execution_count": 10,
   "metadata": {},
   "outputs": [],
   "source": [
    "X_train2 = np.column_stack((X[:-numTest],X2[:-numTest]))\n",
    "X_test2 = np.column_stack((X[-numTest:],X2[-numTest:]))\n",
    "X_train3 = np.column_stack((X[:-numTest],X2[:-numTest],X3[:-numTest]))\n",
    "X_test3 = np.column_stack((X[-numTest:],X2[-numTest:],X3[-numTest:]))\n",
    "X_train4 = np.column_stack((X[:-numTest],X2[:-numTest],X3[:-numTest],X4[:-numTest]))\n",
    "X_test4 = np.column_stack((X[-numTest:],X2[-numTest:],X3[-numTest:],X4[-numTest:]))\n",
    "X_train5 = np.column_stack((X[:-numTest],X2[:-numTest],X3[:-numTest],X4[:-numTest],X5[:-numTest]))\n",
    "X_test5 = np.column_stack((X[-numTest:],X2[-numTest:],X3[-numTest:],X4[-numTest:],X5[-numTest:]))"
   ]
  },
  {
   "cell_type": "markdown",
   "metadata": {},
   "source": [
    "Below, we train 4 new regression models based on the 4 versions of training and test data created in the previous step."
   ]
  },
  {
   "cell_type": "code",
   "execution_count": 11,
   "metadata": {},
   "outputs": [
    {
     "data": {
      "text/plain": [
       "LinearRegression()"
      ]
     },
     "execution_count": 11,
     "metadata": {},
     "output_type": "execute_result"
    }
   ],
   "source": [
    "regr2 = linear_model.LinearRegression()\n",
    "regr2.fit(X_train2, y_train)\n",
    "\n",
    "regr3 = linear_model.LinearRegression()\n",
    "regr3.fit(X_train3, y_train)\n",
    "\n",
    "regr4 = linear_model.LinearRegression()\n",
    "regr4.fit(X_train4, y_train)\n",
    "\n",
    "regr5 = linear_model.LinearRegression()\n",
    "regr5.fit(X_train5, y_train)"
   ]
  },
  {
   "cell_type": "markdown",
   "metadata": {},
   "source": [
    "All 4 versions of the regression models are then applied to the training and test sets."
   ]
  },
  {
   "cell_type": "code",
   "execution_count": 12,
   "metadata": {},
   "outputs": [],
   "source": [
    "y_pred_train = regr.predict(X_train)\n",
    "y_pred_test = regr.predict(X_test)\n",
    "y_pred_train2 = regr2.predict(X_train2)\n",
    "y_pred_test2 = regr2.predict(X_test2)\n",
    "y_pred_train3 = regr3.predict(X_train3)\n",
    "y_pred_test3 = regr3.predict(X_test3)\n",
    "y_pred_train4 = regr4.predict(X_train4)\n",
    "y_pred_test4 = regr4.predict(X_test4)\n",
    "y_pred_train5 = regr5.predict(X_train5)\n",
    "y_pred_test5 = regr5.predict(X_test5)"
   ]
  },
  {
   "cell_type": "markdown",
   "metadata": {},
   "source": [
    "For postprocessing, we compute both the training and test errors of the models. We can also show the resulting model and the sum of the absolute weights of the regression coefficients, i.e., $\\sum_{j=0}^d |w_j|$, where $d$ is the number of predictor attributes."
   ]
  },
  {
   "cell_type": "code",
   "execution_count": 13,
   "metadata": {
    "scrolled": true
   },
   "outputs": [
    {
     "data": {
      "text/html": [
       "<div>\n",
       "<style scoped>\n",
       "    .dataframe tbody tr th:only-of-type {\n",
       "        vertical-align: middle;\n",
       "    }\n",
       "\n",
       "    .dataframe tbody tr th {\n",
       "        vertical-align: top;\n",
       "    }\n",
       "\n",
       "    .dataframe thead th {\n",
       "        text-align: right;\n",
       "    }\n",
       "</style>\n",
       "<table border=\"1\" class=\"dataframe\">\n",
       "  <thead>\n",
       "    <tr style=\"text-align: right;\">\n",
       "      <th></th>\n",
       "      <th>Model</th>\n",
       "      <th>Train error</th>\n",
       "      <th>Test error</th>\n",
       "      <th>Sum of Absolute Weights</th>\n",
       "    </tr>\n",
       "  </thead>\n",
       "  <tbody>\n",
       "    <tr>\n",
       "      <th>0</th>\n",
       "      <td>-3.24 X + 1.08</td>\n",
       "      <td>0.891873</td>\n",
       "      <td>1.047626</td>\n",
       "      <td>4.322954</td>\n",
       "    </tr>\n",
       "    <tr>\n",
       "      <th>1</th>\n",
       "      <td>-5.90 X + 5.92 X2 + 1.00</td>\n",
       "      <td>0.856157</td>\n",
       "      <td>1.087601</td>\n",
       "      <td>12.817040</td>\n",
       "    </tr>\n",
       "    <tr>\n",
       "      <th>2</th>\n",
       "      <td>-6.22 X + -2.30 X2 + 17.14 X3 + 1.08</td>\n",
       "      <td>0.834238</td>\n",
       "      <td>1.094661</td>\n",
       "      <td>26.744867</td>\n",
       "    </tr>\n",
       "    <tr>\n",
       "      <th>3</th>\n",
       "      <td>-7.16 X + 0.93 X2 + 8.39 X3 + 11.85 X4 + 1.12</td>\n",
       "      <td>0.825722</td>\n",
       "      <td>1.128861</td>\n",
       "      <td>29.453660</td>\n",
       "    </tr>\n",
       "    <tr>\n",
       "      <th>4</th>\n",
       "      <td>-7.16 X + 4.50 X2 + 3.52 X3 + -6.55 X4 + 25.68...</td>\n",
       "      <td>0.799399</td>\n",
       "      <td>1.146546</td>\n",
       "      <td>48.614927</td>\n",
       "    </tr>\n",
       "  </tbody>\n",
       "</table>\n",
       "</div>"
      ],
      "text/plain": [
       "                                               Model  Train error  Test error  \\\n",
       "0                                     -3.24 X + 1.08     0.891873    1.047626   \n",
       "1                           -5.90 X + 5.92 X2 + 1.00     0.856157    1.087601   \n",
       "2               -6.22 X + -2.30 X2 + 17.14 X3 + 1.08     0.834238    1.094661   \n",
       "3      -7.16 X + 0.93 X2 + 8.39 X3 + 11.85 X4 + 1.12     0.825722    1.128861   \n",
       "4  -7.16 X + 4.50 X2 + 3.52 X3 + -6.55 X4 + 25.68...     0.799399    1.146546   \n",
       "\n",
       "   Sum of Absolute Weights  \n",
       "0                 4.322954  \n",
       "1                12.817040  \n",
       "2                26.744867  \n",
       "3                29.453660  \n",
       "4                48.614927  "
      ]
     },
     "execution_count": 13,
     "metadata": {},
     "output_type": "execute_result"
    },
    {
     "data": {
      "image/png": "[encoded data removed]",
      "text/plain": [
       "<Figure size 432x288 with 1 Axes>"
      ]
     },
     "metadata": {
      "needs_background": "light"
     },
     "output_type": "display_data"
    }
   ],
   "source": [
    "import pandas as pd\n",
    "import matplotlib.pyplot as plt\n",
    "\n",
    "columns = ['Model', 'Train error', 'Test error', 'Sum of Absolute Weights']\n",
    "model1 = \"%.2f X + %.2f\" % (regr.coef_[0][0], regr.intercept_[0])\n",
    "values1 = [ model1, np.sqrt(mean_squared_error(y_train, y_pred_train)), \n",
    "           np.sqrt(mean_squared_error(y_test, y_pred_test)),\n",
    "           np.absolute(regr.coef_[0]).sum() + np.absolute(regr.intercept_[0])]\n",
    "\n",
    "model2 = \"%.2f X + %.2f X2 + %.2f\" % (regr2.coef_[0][0], regr2.coef_[0][1], regr2.intercept_[0])\n",
    "values2 = [ model2, np.sqrt(mean_squared_error(y_train, y_pred_train2)), \n",
    "           np.sqrt(mean_squared_error(y_test, y_pred_test2)),\n",
    "           np.absolute(regr2.coef_[0]).sum() + np.absolute(regr2.intercept_[0])]\n",
    "\n",
    "model3 = \"%.2f X + %.2f X2 + %.2f X3 + %.2f\" % (regr3.coef_[0][0], regr3.coef_[0][1], \n",
    "                                                regr3.coef_[0][2], regr3.intercept_[0])\n",
    "values3 = [ model3, np.sqrt(mean_squared_error(y_train, y_pred_train3)), \n",
    "           np.sqrt(mean_squared_error(y_test, y_pred_test3)),\n",
    "           np.absolute(regr3.coef_[0]).sum() + np.absolute(regr3.intercept_[0])]\n",
    "\n",
    "model4 = \"%.2f X + %.2f X2 + %.2f X3 + %.2f X4 + %.2f\" % (regr4.coef_[0][0], regr4.coef_[0][1], \n",
    "                                        regr4.coef_[0][2], regr4.coef_[0][3], regr4.intercept_[0])\n",
    "values4 = [ model4, np.sqrt(mean_squared_error(y_train, y_pred_train4)), \n",
    "           np.sqrt(mean_squared_error(y_test, y_pred_test4)),\n",
    "           np.absolute(regr4.coef_[0]).sum() + np.absolute(regr4.intercept_[0])]\n",
    "\n",
    "model5 = \"%.2f X + %.2f X2 + %.2f X3 + %.2f X4 + %.2f X5 + %.2f\" % (regr5.coef_[0][0], \n",
    "                                        regr5.coef_[0][1], regr5.coef_[0][2], \n",
    "                                        regr5.coef_[0][3], regr5.coef_[0][4], regr5.intercept_[0])\n",
    "values5 = [ model5, np.sqrt(mean_squared_error(y_train, y_pred_train5)), \n",
    "           np.sqrt(mean_squared_error(y_test, y_pred_test5)),\n",
    "           np.absolute(regr5.coef_[0]).sum() + np.absolute(regr5.intercept_[0])]\n",
    "\n",
    "results = pd.DataFrame([values1, values2, values3, values4, values5], columns=columns)\n",
    "\n",
    "plt.plot(results['Sum of Absolute Weights'], results['Train error'], 'ro-')\n",
    "plt.plot(results['Sum of Absolute Weights'], results['Test error'], 'k*--')\n",
    "plt.legend(['Train error', 'Test error'])\n",
    "plt.xlabel('Sum of Absolute Weights')\n",
    "plt.ylabel('Error rate')\n",
    "\n",
    "results"
   ]
  },
  {
   "cell_type": "markdown",
   "metadata": {},
   "source": [
    "The results above show that the first model, which fits y against X only, has the largest training error, but smallest test error, whereas the fifth model, which fits y against X and other correlated attributes, has the smallest training error but largest test error. This is due to a phenomenon known as model overfitting, in which the low training error of the model does not reflect how well the model will perform on previously unseen test instances. From the plot shown above, observe that the disparity between the training and test errors becomes wider as the sum of absolute weights of the model (which represents the model complexity) increases. Thus, one should control the complexity of the regression model to avoid the model overfitting problem.  "
   ]
  },
  {
   "cell_type": "markdown",
   "metadata": {
    "scrolled": true
   },
   "source": [
    "## 5.4 Ridge Regression\n",
    "\n",
    "Ridge regression is a variant of MLR designed to fit a linear model to the dataset by minimizing the following regularized least-square loss function:\n",
    "$$L_{\\textrm{ridge}}(y,f(X,w)) = \\sum_{i=1}^N \\|y_i - X_iw - w_0\\|^2 + \\alpha \\bigg[\\|w\\|^2 + w_0^2 \\bigg],$$\n",
    "where $\\alpha$ is the hyperparameter for ridge regression. Note that the ridge regression model reduces to MLR when $\\alpha = 0$. By increasing the value of $\\alpha$, we can control the complexity of the model as will be shown in the example below. "
   ]
  },
  {
   "cell_type": "markdown",
   "metadata": {},
   "source": [
    "In the example shown below, we fit a ridge regression model to the previously created training set with correlated attributes. We compare the results of the ridge regression model against those obtained using MLR. "
   ]
  },
  {
   "cell_type": "code",
   "execution_count": 14,
   "metadata": {},
   "outputs": [
    {
     "data": {
      "text/html": [
       "<div>\n",
       "<style scoped>\n",
       "    .dataframe tbody tr th:only-of-type {\n",
       "        vertical-align: middle;\n",
       "    }\n",
       "\n",
       "    .dataframe tbody tr th {\n",
       "        vertical-align: top;\n",
       "    }\n",
       "\n",
       "    .dataframe thead th {\n",
       "        text-align: right;\n",
       "    }\n",
       "</style>\n",
       "<table border=\"1\" class=\"dataframe\">\n",
       "  <thead>\n",
       "    <tr style=\"text-align: right;\">\n",
       "      <th></th>\n",
       "      <th>Model</th>\n",
       "      <th>Train error</th>\n",
       "      <th>Test error</th>\n",
       "      <th>Sum of Absolute Weights</th>\n",
       "    </tr>\n",
       "  </thead>\n",
       "  <tbody>\n",
       "    <tr>\n",
       "      <th>0</th>\n",
       "      <td>-3.24 X + 1.08</td>\n",
       "      <td>0.891873</td>\n",
       "      <td>1.047626</td>\n",
       "      <td>4.322954</td>\n",
       "    </tr>\n",
       "    <tr>\n",
       "      <th>1</th>\n",
       "      <td>-5.90 X + 5.92 X2 + 1.00</td>\n",
       "      <td>0.856157</td>\n",
       "      <td>1.087601</td>\n",
       "      <td>12.817040</td>\n",
       "    </tr>\n",
       "    <tr>\n",
       "      <th>2</th>\n",
       "      <td>-6.22 X + -2.30 X2 + 17.14 X3 + 1.08</td>\n",
       "      <td>0.834238</td>\n",
       "      <td>1.094661</td>\n",
       "      <td>26.744867</td>\n",
       "    </tr>\n",
       "    <tr>\n",
       "      <th>3</th>\n",
       "      <td>-7.16 X + 0.93 X2 + 8.39 X3 + 11.85 X4 + 1.12</td>\n",
       "      <td>0.825722</td>\n",
       "      <td>1.128861</td>\n",
       "      <td>29.453660</td>\n",
       "    </tr>\n",
       "    <tr>\n",
       "      <th>4</th>\n",
       "      <td>-7.16 X + 4.50 X2 + 3.52 X3 + -6.55 X4 + 25.68...</td>\n",
       "      <td>0.799399</td>\n",
       "      <td>1.146546</td>\n",
       "      <td>48.614927</td>\n",
       "    </tr>\n",
       "    <tr>\n",
       "      <th>Ridge</th>\n",
       "      <td>-2.24 X + -0.43 X2 + -0.14 X3 + -0.10 X4 + 0.0...</td>\n",
       "      <td>0.917456</td>\n",
       "      <td>1.052388</td>\n",
       "      <td>3.765759</td>\n",
       "    </tr>\n",
       "  </tbody>\n",
       "</table>\n",
       "</div>"
      ],
      "text/plain": [
       "                                                   Model  Train error  \\\n",
       "0                                         -3.24 X + 1.08     0.891873   \n",
       "1                               -5.90 X + 5.92 X2 + 1.00     0.856157   \n",
       "2                   -6.22 X + -2.30 X2 + 17.14 X3 + 1.08     0.834238   \n",
       "3          -7.16 X + 0.93 X2 + 8.39 X3 + 11.85 X4 + 1.12     0.825722   \n",
       "4      -7.16 X + 4.50 X2 + 3.52 X3 + -6.55 X4 + 25.68...     0.799399   \n",
       "Ridge  -2.24 X + -0.43 X2 + -0.14 X3 + -0.10 X4 + 0.0...     0.917456   \n",
       "\n",
       "       Test error  Sum of Absolute Weights  \n",
       "0        1.047626                 4.322954  \n",
       "1        1.087601                12.817040  \n",
       "2        1.094661                26.744867  \n",
       "3        1.128861                29.453660  \n",
       "4        1.146546                48.614927  \n",
       "Ridge    1.052388                 3.765759  "
      ]
     },
     "execution_count": 14,
     "metadata": {},
     "output_type": "execute_result"
    }
   ],
   "source": [
    "from sklearn import linear_model\n",
    "\n",
    "ridge = linear_model.Ridge(alpha=0.4)\n",
    "ridge.fit(X_train5, y_train)\n",
    "y_pred_train_ridge = ridge.predict(X_train5)\n",
    "y_pred_test_ridge = ridge.predict(X_test5)\n",
    "\n",
    "model6 = \"%.2f X + %.2f X2 + %.2f X3 + %.2f X4 + %.2f X5 + %.2f\" % (ridge.coef_[0][0], \n",
    "                                        ridge.coef_[0][1], ridge.coef_[0][2], \n",
    "                                        ridge.coef_[0][3], ridge.coef_[0][4], ridge.intercept_[0])\n",
    "values6 = [ model6, np.sqrt(mean_squared_error(y_train, y_pred_train_ridge)), \n",
    "           np.sqrt(mean_squared_error(y_test, y_pred_test_ridge)),\n",
    "           np.absolute(ridge.coef_[0]).sum() + np.absolute(ridge.intercept_[0])]\n",
    "\n",
    "ridge_results = pd.DataFrame([values6], columns=columns, index=['Ridge'])\n",
    "pd.concat([results, ridge_results])"
   ]
  },
  {
   "cell_type": "markdown",
   "metadata": {},
   "source": [
    "By setting an appropriate value for the hyperparameter, $\\alpha$, we can control the sum of absolute weights, thus producing a test error that is quite comparable to that of MLR without the correlated attributes. "
   ]
  },
  {
   "cell_type": "markdown",
   "metadata": {},
   "source": [
    "## 5.5 Lasso Regression\n",
    "\n",
    "One of the limitations of ridge regression is that, although it was able to reduce the regression coefficients associated with the correlated attributes and reduce the effect of model overfitting, the resulting model is still not sparse. Another variation of MLR, called lasso regression, is designed to produce sparser models by imposing an $\\ell_1$ regularization on the regression coefficients as shown below:\n",
    "$$L_{\\textrm{lasso}}(y,f(X,w)) = \\sum_{i=1}^N \\|y_i - X_iw - w_0\\|^2 + \\alpha \\bigg[ \\|w\\|_1 + |w_0|\\bigg]$$\n",
    "\n",
    "The example code below shows the results of applying lasso regression to the previously used correlated dataset. "
   ]
  },
  {
   "cell_type": "code",
   "execution_count": 15,
   "metadata": {},
   "outputs": [
    {
     "data": {
      "text/html": [
       "<div>\n",
       "<style scoped>\n",
       "    .dataframe tbody tr th:only-of-type {\n",
       "        vertical-align: middle;\n",
       "    }\n",
       "\n",
       "    .dataframe tbody tr th {\n",
       "        vertical-align: top;\n",
       "    }\n",
       "\n",
       "    .dataframe thead th {\n",
       "        text-align: right;\n",
       "    }\n",
       "</style>\n",
       "<table border=\"1\" class=\"dataframe\">\n",
       "  <thead>\n",
       "    <tr style=\"text-align: right;\">\n",
       "      <th></th>\n",
       "      <th>Model</th>\n",
       "      <th>Train error</th>\n",
       "      <th>Test error</th>\n",
       "      <th>Sum of Absolute Weights</th>\n",
       "    </tr>\n",
       "  </thead>\n",
       "  <tbody>\n",
       "    <tr>\n",
       "      <th>0</th>\n",
       "      <td>-3.24 X + 1.08</td>\n",
       "      <td>0.891873</td>\n",
       "      <td>1.047626</td>\n",
       "      <td>4.322954</td>\n",
       "    </tr>\n",
       "    <tr>\n",
       "      <th>1</th>\n",
       "      <td>-5.90 X + 5.92 X2 + 1.00</td>\n",
       "      <td>0.856157</td>\n",
       "      <td>1.087601</td>\n",
       "      <td>12.817040</td>\n",
       "    </tr>\n",
       "    <tr>\n",
       "      <th>2</th>\n",
       "      <td>-6.22 X + -2.30 X2 + 17.14 X3 + 1.08</td>\n",
       "      <td>0.834238</td>\n",
       "      <td>1.094661</td>\n",
       "      <td>26.744867</td>\n",
       "    </tr>\n",
       "    <tr>\n",
       "      <th>3</th>\n",
       "      <td>-7.16 X + 0.93 X2 + 8.39 X3 + 11.85 X4 + 1.12</td>\n",
       "      <td>0.825722</td>\n",
       "      <td>1.128861</td>\n",
       "      <td>29.453660</td>\n",
       "    </tr>\n",
       "    <tr>\n",
       "      <th>4</th>\n",
       "      <td>-7.16 X + 4.50 X2 + 3.52 X3 + -6.55 X4 + 25.68...</td>\n",
       "      <td>0.799399</td>\n",
       "      <td>1.146546</td>\n",
       "      <td>48.614927</td>\n",
       "    </tr>\n",
       "    <tr>\n",
       "      <th>Ridge</th>\n",
       "      <td>-2.24 X + -0.43 X2 + -0.14 X3 + -0.10 X4 + 0.0...</td>\n",
       "      <td>0.917456</td>\n",
       "      <td>1.052388</td>\n",
       "      <td>3.765759</td>\n",
       "    </tr>\n",
       "    <tr>\n",
       "      <th>Lasso</th>\n",
       "      <td>-2.90 X + 0.00 X2 + 0.00 X3 + 0.00 X4 + 0.00 X...</td>\n",
       "      <td>0.895692</td>\n",
       "      <td>1.043334</td>\n",
       "      <td>3.856242</td>\n",
       "    </tr>\n",
       "  </tbody>\n",
       "</table>\n",
       "</div>"
      ],
      "text/plain": [
       "                                                   Model  Train error  \\\n",
       "0                                         -3.24 X + 1.08     0.891873   \n",
       "1                               -5.90 X + 5.92 X2 + 1.00     0.856157   \n",
       "2                   -6.22 X + -2.30 X2 + 17.14 X3 + 1.08     0.834238   \n",
       "3          -7.16 X + 0.93 X2 + 8.39 X3 + 11.85 X4 + 1.12     0.825722   \n",
       "4      -7.16 X + 4.50 X2 + 3.52 X3 + -6.55 X4 + 25.68...     0.799399   \n",
       "Ridge  -2.24 X + -0.43 X2 + -0.14 X3 + -0.10 X4 + 0.0...     0.917456   \n",
       "Lasso  -2.90 X + 0.00 X2 + 0.00 X3 + 0.00 X4 + 0.00 X...     0.895692   \n",
       "\n",
       "       Test error  Sum of Absolute Weights  \n",
       "0        1.047626                 4.322954  \n",
       "1        1.087601                12.817040  \n",
       "2        1.094661                26.744867  \n",
       "3        1.128861                29.453660  \n",
       "4        1.146546                48.614927  \n",
       "Ridge    1.052388                 3.765759  \n",
       "Lasso    1.043334                 3.856242  "
      ]
     },
     "execution_count": 15,
     "metadata": {},
     "output_type": "execute_result"
    }
   ],
   "source": [
    "from sklearn import linear_model\n",
    "\n",
    "lasso = linear_model.Lasso(alpha=0.02)\n",
    "lasso.fit(X_train5, y_train)\n",
    "y_pred_train_lasso = lasso.predict(X_train5)\n",
    "y_pred_test_lasso = lasso.predict(X_test5)\n",
    "\n",
    "model7 = \"%.2f X + %.2f X2 + %.2f X3 + %.2f X4 + %.2f X5 + %.2f\" % (lasso.coef_[0], \n",
    "                                        lasso.coef_[1], lasso.coef_[2], \n",
    "                                        lasso.coef_[3], lasso.coef_[4], lasso.intercept_[0])\n",
    "values7 = [ model7, np.sqrt(mean_squared_error(y_train, y_pred_train_lasso)), \n",
    "           np.sqrt(mean_squared_error(y_test, y_pred_test_lasso)),\n",
    "           np.absolute(lasso.coef_[0]).sum() + np.absolute(lasso.intercept_[0])]\n",
    "\n",
    "lasso_results = pd.DataFrame([values7], columns=columns, index=['Lasso'])\n",
    "pd.concat([results, ridge_results, lasso_results])"
   ]
  },
  {
   "cell_type": "markdown",
   "metadata": {},
   "source": [
    "Observe that the lasso regression model sets the coefficients for the correlated attributes, X2, X3, X4, and X5 to exactly zero unlike the ridge regression model. As a result, its test error is significantly better than that for ridge regression. "
   ]
  },
  {
   "cell_type": "markdown",
   "metadata": {},
   "source": [
    "## 5.6 Hyperparameter Selection via Cross-Validation\n",
    "\n",
    "While both ridge and lasso regression methods can potentially alleviate the model overfitting problem, one of the challenges is how to select the appropriate hyperparameter value, $\\alpha$. In the examples shown below, we demonstrate examples of using a 5-fold cross-validation method to select the best hyperparameter of the model. More details about the model selection problem and cross-validation method are described in Chapter 3 of the book. \n",
    "\n",
    "In the first sample code below, we vary the hyperparameter $\\alpha$ for ridge regression to a range between 0.2 and 1.0. Using the RidgeCV() function, we can train a model with 5-fold cross-validation and select the best hyperparameter value. "
   ]
  },
  {
   "cell_type": "code",
   "execution_count": 16,
   "metadata": {},
   "outputs": [
    {
     "name": "stdout",
     "output_type": "stream",
     "text": [
      "Selected alpha = 0.20\n"
     ]
    },
    {
     "data": {
      "text/html": [
       "<div>\n",
       "<style scoped>\n",
       "    .dataframe tbody tr th:only-of-type {\n",
       "        vertical-align: middle;\n",
       "    }\n",
       "\n",
       "    .dataframe tbody tr th {\n",
       "        vertical-align: top;\n",
       "    }\n",
       "\n",
       "    .dataframe thead th {\n",
       "        text-align: right;\n",
       "    }\n",
       "</style>\n",
       "<table border=\"1\" class=\"dataframe\">\n",
       "  <thead>\n",
       "    <tr style=\"text-align: right;\">\n",
       "      <th></th>\n",
       "      <th>Model</th>\n",
       "      <th>Train error</th>\n",
       "      <th>Test error</th>\n",
       "      <th>Sum of Absolute Weights</th>\n",
       "    </tr>\n",
       "  </thead>\n",
       "  <tbody>\n",
       "    <tr>\n",
       "      <th>0</th>\n",
       "      <td>-3.24 X + 1.08</td>\n",
       "      <td>0.891873</td>\n",
       "      <td>1.047626</td>\n",
       "      <td>4.322954</td>\n",
       "    </tr>\n",
       "    <tr>\n",
       "      <th>1</th>\n",
       "      <td>-5.90 X + 5.92 X2 + 1.00</td>\n",
       "      <td>0.856157</td>\n",
       "      <td>1.087601</td>\n",
       "      <td>12.817040</td>\n",
       "    </tr>\n",
       "    <tr>\n",
       "      <th>2</th>\n",
       "      <td>-6.22 X + -2.30 X2 + 17.14 X3 + 1.08</td>\n",
       "      <td>0.834238</td>\n",
       "      <td>1.094661</td>\n",
       "      <td>26.744867</td>\n",
       "    </tr>\n",
       "    <tr>\n",
       "      <th>3</th>\n",
       "      <td>-7.16 X + 0.93 X2 + 8.39 X3 + 11.85 X4 + 1.12</td>\n",
       "      <td>0.825722</td>\n",
       "      <td>1.128861</td>\n",
       "      <td>29.453660</td>\n",
       "    </tr>\n",
       "    <tr>\n",
       "      <th>4</th>\n",
       "      <td>-7.16 X + 4.50 X2 + 3.52 X3 + -6.55 X4 + 25.68...</td>\n",
       "      <td>0.799399</td>\n",
       "      <td>1.146546</td>\n",
       "      <td>48.614927</td>\n",
       "    </tr>\n",
       "    <tr>\n",
       "      <th>RidgeCV</th>\n",
       "      <td>-2.74 X + -0.16 X2 + 0.09 X3 + 0.01 X4 + 0.21 ...</td>\n",
       "      <td>0.899190</td>\n",
       "      <td>1.044401</td>\n",
       "      <td>4.112120</td>\n",
       "    </tr>\n",
       "  </tbody>\n",
       "</table>\n",
       "</div>"
      ],
      "text/plain": [
       "                                                     Model  Train error  \\\n",
       "0                                           -3.24 X + 1.08     0.891873   \n",
       "1                                 -5.90 X + 5.92 X2 + 1.00     0.856157   \n",
       "2                     -6.22 X + -2.30 X2 + 17.14 X3 + 1.08     0.834238   \n",
       "3            -7.16 X + 0.93 X2 + 8.39 X3 + 11.85 X4 + 1.12     0.825722   \n",
       "4        -7.16 X + 4.50 X2 + 3.52 X3 + -6.55 X4 + 25.68...     0.799399   \n",
       "RidgeCV  -2.74 X + -0.16 X2 + 0.09 X3 + 0.01 X4 + 0.21 ...     0.899190   \n",
       "\n",
       "         Test error  Sum of Absolute Weights  \n",
       "0          1.047626                 4.322954  \n",
       "1          1.087601                12.817040  \n",
       "2          1.094661                26.744867  \n",
       "3          1.128861                29.453660  \n",
       "4          1.146546                48.614927  \n",
       "RidgeCV    1.044401                 4.112120  "
      ]
     },
     "execution_count": 16,
     "metadata": {},
     "output_type": "execute_result"
    }
   ],
   "source": [
    "from sklearn import linear_model\n",
    "\n",
    "ridge = linear_model.RidgeCV(cv=5,alphas=[0.2, 0.4, 0.6, 0.8, 1.0])\n",
    "ridge.fit(X_train5, y_train)\n",
    "y_pred_train_ridge = ridge.predict(X_train5)\n",
    "y_pred_test_ridge = ridge.predict(X_test5)\n",
    "\n",
    "model6 = \"%.2f X + %.2f X2 + %.2f X3 + %.2f X4 + %.2f X5 + %.2f\" % (ridge.coef_[0][0], \n",
    "                                        ridge.coef_[0][1], ridge.coef_[0][2], \n",
    "                                        ridge.coef_[0][3], ridge.coef_[0][4], ridge.intercept_[0])\n",
    "values6 = [ model6, np.sqrt(mean_squared_error(y_train, y_pred_train_ridge)), \n",
    "           np.sqrt(mean_squared_error(y_test, y_pred_test_ridge)),\n",
    "           np.absolute(ridge.coef_[0]).sum() + np.absolute(ridge.intercept_[0])]\n",
    "print(\"Selected alpha = %.2f\" % ridge.alpha_)\n",
    "\n",
    "ridge_results = pd.DataFrame([values6], columns=columns, index=['RidgeCV'])\n",
    "pd.concat([results, ridge_results])"
   ]
  },
  {
   "cell_type": "markdown",
   "metadata": {},
   "source": [
    "In this next example, we illustrate how to apply cross-validation to select the best hyperparameter value for fitting a lasso regression model. "
   ]
  },
  {
   "cell_type": "code",
   "execution_count": 17,
   "metadata": {},
   "outputs": [
    {
     "name": "stdout",
     "output_type": "stream",
     "text": [
      "Selected alpha = 0.01\n"
     ]
    },
    {
     "data": {
      "text/html": [
       "<div>\n",
       "<style scoped>\n",
       "    .dataframe tbody tr th:only-of-type {\n",
       "        vertical-align: middle;\n",
       "    }\n",
       "\n",
       "    .dataframe tbody tr th {\n",
       "        vertical-align: top;\n",
       "    }\n",
       "\n",
       "    .dataframe thead th {\n",
       "        text-align: right;\n",
       "    }\n",
       "</style>\n",
       "<table border=\"1\" class=\"dataframe\">\n",
       "  <thead>\n",
       "    <tr style=\"text-align: right;\">\n",
       "      <th></th>\n",
       "      <th>Model</th>\n",
       "      <th>Train error</th>\n",
       "      <th>Test error</th>\n",
       "      <th>Sum of Absolute Weights</th>\n",
       "    </tr>\n",
       "  </thead>\n",
       "  <tbody>\n",
       "    <tr>\n",
       "      <th>0</th>\n",
       "      <td>-3.24 X + 1.08</td>\n",
       "      <td>0.891873</td>\n",
       "      <td>1.047626</td>\n",
       "      <td>4.322954</td>\n",
       "    </tr>\n",
       "    <tr>\n",
       "      <th>1</th>\n",
       "      <td>-5.90 X + 5.92 X2 + 1.00</td>\n",
       "      <td>0.856157</td>\n",
       "      <td>1.087601</td>\n",
       "      <td>12.817040</td>\n",
       "    </tr>\n",
       "    <tr>\n",
       "      <th>2</th>\n",
       "      <td>-6.22 X + -2.30 X2 + 17.14 X3 + 1.08</td>\n",
       "      <td>0.834238</td>\n",
       "      <td>1.094661</td>\n",
       "      <td>26.744867</td>\n",
       "    </tr>\n",
       "    <tr>\n",
       "      <th>3</th>\n",
       "      <td>-7.16 X + 0.93 X2 + 8.39 X3 + 11.85 X4 + 1.12</td>\n",
       "      <td>0.825722</td>\n",
       "      <td>1.128861</td>\n",
       "      <td>29.453660</td>\n",
       "    </tr>\n",
       "    <tr>\n",
       "      <th>4</th>\n",
       "      <td>-7.16 X + 4.50 X2 + 3.52 X3 + -6.55 X4 + 25.68...</td>\n",
       "      <td>0.799399</td>\n",
       "      <td>1.146546</td>\n",
       "      <td>48.614927</td>\n",
       "    </tr>\n",
       "    <tr>\n",
       "      <th>RidgeCV</th>\n",
       "      <td>-2.74 X + -0.16 X2 + 0.09 X3 + 0.01 X4 + 0.21 ...</td>\n",
       "      <td>0.899190</td>\n",
       "      <td>1.044401</td>\n",
       "      <td>4.112120</td>\n",
       "    </tr>\n",
       "    <tr>\n",
       "      <th>LassoCV</th>\n",
       "      <td>-3.07 X + 0.00 X2 + 0.00 X3 + 0.00 X4 + 0.00 X...</td>\n",
       "      <td>0.892829</td>\n",
       "      <td>1.043911</td>\n",
       "      <td>4.089598</td>\n",
       "    </tr>\n",
       "  </tbody>\n",
       "</table>\n",
       "</div>"
      ],
      "text/plain": [
       "                                                     Model  Train error  \\\n",
       "0                                           -3.24 X + 1.08     0.891873   \n",
       "1                                 -5.90 X + 5.92 X2 + 1.00     0.856157   \n",
       "2                     -6.22 X + -2.30 X2 + 17.14 X3 + 1.08     0.834238   \n",
       "3            -7.16 X + 0.93 X2 + 8.39 X3 + 11.85 X4 + 1.12     0.825722   \n",
       "4        -7.16 X + 4.50 X2 + 3.52 X3 + -6.55 X4 + 25.68...     0.799399   \n",
       "RidgeCV  -2.74 X + -0.16 X2 + 0.09 X3 + 0.01 X4 + 0.21 ...     0.899190   \n",
       "LassoCV  -3.07 X + 0.00 X2 + 0.00 X3 + 0.00 X4 + 0.00 X...     0.892829   \n",
       "\n",
       "         Test error  Sum of Absolute Weights  \n",
       "0          1.047626                 4.322954  \n",
       "1          1.087601                12.817040  \n",
       "2          1.094661                26.744867  \n",
       "3          1.128861                29.453660  \n",
       "4          1.146546                48.614927  \n",
       "RidgeCV    1.044401                 4.112120  \n",
       "LassoCV    1.043911                 4.089598  "
      ]
     },
     "execution_count": 17,
     "metadata": {},
     "output_type": "execute_result"
    }
   ],
   "source": [
    "from sklearn import linear_model\n",
    "\n",
    "lasso = linear_model.LassoCV(cv=5, alphas=[0.01, 0.02, 0.05, 0.1, 0.3, 0.5, 1.0])\n",
    "lasso.fit(X_train5, y_train.reshape(y_train.shape[0]))\n",
    "y_pred_train_lasso = lasso.predict(X_train5)\n",
    "y_pred_test_lasso = lasso.predict(X_test5)\n",
    "\n",
    "model7 = \"%.2f X + %.2f X2 + %.2f X3 + %.2f X4 + %.2f X5 + %.2f\" % (lasso.coef_[0], \n",
    "                                        lasso.coef_[1], lasso.coef_[2], \n",
    "                                        lasso.coef_[3], lasso.coef_[4], lasso.intercept_)\n",
    "values7 = [ model7, np.sqrt(mean_squared_error(y_train, y_pred_train_lasso)), \n",
    "           np.sqrt(mean_squared_error(y_test, y_pred_test_lasso)),\n",
    "           np.absolute(lasso.coef_[0]).sum() + np.absolute(lasso.intercept_)]\n",
    "print(\"Selected alpha = %.2f\" % lasso.alpha_)\n",
    "\n",
    "lasso_results = pd.DataFrame([values7], columns=columns, index=['LassoCV'])\n",
    "pd.concat([results, ridge_results, lasso_results])"
   ]
  },
  {
   "cell_type": "markdown",
   "metadata": {
    "collapsed": true
   },
   "source": [
    "## 5.7 Summary\n",
    "\n",
    "This section presents example Python code for fitting linear regression models to a dataset. We also illustrate the problem of model overfitting and shows two alternative methods, called ridge and lasso regression, that can help alleviate such problem. While the model overfitting problem shown here is illustrated in the context of correlated attributes, the problem is more general and may arise due to other factors such as noise and other exceptional values in the data."
   ]
  },
  {
   "cell_type": "markdown",
   "metadata": {},
   "source": [
    "### 50_Startups"
   ]
  },
  {
   "cell_type": "code",
   "execution_count": 18,
   "metadata": {},
   "outputs": [
    {
     "data": {
      "text/html": [
       "<div>\n",
       "<style scoped>\n",
       "    .dataframe tbody tr th:only-of-type {\n",
       "        vertical-align: middle;\n",
       "    }\n",
       "\n",
       "    .dataframe tbody tr th {\n",
       "        vertical-align: top;\n",
       "    }\n",
       "\n",
       "    .dataframe thead th {\n",
       "        text-align: right;\n",
       "    }\n",
       "</style>\n",
       "<table border=\"1\" class=\"dataframe\">\n",
       "  <thead>\n",
       "    <tr style=\"text-align: right;\">\n",
       "      <th></th>\n",
       "      <th>R&amp;D Spend</th>\n",
       "      <th>Administration</th>\n",
       "      <th>Marketing Spend</th>\n",
       "      <th>State</th>\n",
       "      <th>Profit</th>\n",
       "    </tr>\n",
       "  </thead>\n",
       "  <tbody>\n",
       "    <tr>\n",
       "      <th>0</th>\n",
       "      <td>165349.20</td>\n",
       "      <td>136897.80</td>\n",
       "      <td>471784.10</td>\n",
       "      <td>New York</td>\n",
       "      <td>192261.83</td>\n",
       "    </tr>\n",
       "    <tr>\n",
       "      <th>1</th>\n",
       "      <td>162597.70</td>\n",
       "      <td>151377.59</td>\n",
       "      <td>443898.53</td>\n",
       "      <td>California</td>\n",
       "      <td>191792.06</td>\n",
       "    </tr>\n",
       "    <tr>\n",
       "      <th>2</th>\n",
       "      <td>153441.51</td>\n",
       "      <td>101145.55</td>\n",
       "      <td>407934.54</td>\n",
       "      <td>Florida</td>\n",
       "      <td>191050.39</td>\n",
       "    </tr>\n",
       "    <tr>\n",
       "      <th>3</th>\n",
       "      <td>144372.41</td>\n",
       "      <td>118671.85</td>\n",
       "      <td>383199.62</td>\n",
       "      <td>New York</td>\n",
       "      <td>182901.99</td>\n",
       "    </tr>\n",
       "    <tr>\n",
       "      <th>4</th>\n",
       "      <td>142107.34</td>\n",
       "      <td>91391.77</td>\n",
       "      <td>366168.42</td>\n",
       "      <td>Florida</td>\n",
       "      <td>166187.94</td>\n",
       "    </tr>\n",
       "  </tbody>\n",
       "</table>\n",
       "</div>"
      ],
      "text/plain": [
       "   R&D Spend  Administration  Marketing Spend       State     Profit\n",
       "0  165349.20       136897.80        471784.10    New York  192261.83\n",
       "1  162597.70       151377.59        443898.53  California  191792.06\n",
       "2  153441.51       101145.55        407934.54     Florida  191050.39\n",
       "3  144372.41       118671.85        383199.62    New York  182901.99\n",
       "4  142107.34        91391.77        366168.42     Florida  166187.94"
      ]
     },
     "execution_count": 18,
     "metadata": {},
     "output_type": "execute_result"
    }
   ],
   "source": [
    "import numpy\n",
    "import pandas\n",
    "import matplotlib.pyplot as plt\n",
    "from sklearn.preprocessing import LabelEncoder,OneHotEncoder\n",
    "from sklearn.model_selection import train_test_split\n",
    "from sklearn.compose import ColumnTransformer\n",
    "\n",
    "dataset = pandas.read_csv('50_Startups.csv')\n",
    "dataset.head()"
   ]
  },
  {
   "cell_type": "code",
   "execution_count": 19,
   "metadata": {},
   "outputs": [],
   "source": [
    "X_ = dataset.iloc[:,:-1].values\n",
    "Y_ = dataset.iloc[:,4].values\n",
    "\n",
    "labelencoder = LabelEncoder()\n",
    "X_[:,3] = labelencoder.fit_transform(X_[:,3])\n",
    "ct = ColumnTransformer([('State', OneHotEncoder(), [3])], remainder = 'passthrough')\n",
    "X_ = ct.fit_transform(X_)\n",
    "\n",
    "X_ = X_[:,1:] # Reduce dummy variables to avoid dummy variable traps\n",
    "\n",
    "X_train,X_test, Y_train, Y_test = train_test_split(X_,Y_,test_size=0.2,random_state=0)"
   ]
  },
  {
   "cell_type": "code",
   "execution_count": 20,
   "metadata": {},
   "outputs": [
    {
     "name": "stdout",
     "output_type": "stream",
     "text": [
      "0.93470684732824\n"
     ]
    },
    {
     "data": {
      "image/png": "[encoded data removed]",
      "text/plain": [
       "<Figure size 432x288 with 1 Axes>"
      ]
     },
     "metadata": {
      "needs_background": "light"
     },
     "output_type": "display_data"
    }
   ],
   "source": [
    "# Create linear regression object\n",
    "regression = linear_model.LinearRegression()\n",
    "# Fit regression model to the training set\n",
    "regression.fit(X_train, Y_train)\n",
    "\n",
    "# Apply model to the test set\n",
    "Y_pred = regression.predict(X_test)\n",
    "\n",
    "# Model evaluation\n",
    "print(r2_score(Y_test, Y_pred))\n",
    "\n",
    "plt.scatter(numpy.arange(10), Y_test, color='red', label='Y_test')\n",
    "plt.scatter(numpy.arange(10), Y_pred, color='blue', label='Y_pred')\n",
    "\n",
    "plt.legend(loc=2)\n",
    "plt.show()"
   ]
  },
  {
   "cell_type": "code",
   "execution_count": null,
   "metadata": {},
   "outputs": [],
   "source": []
  }
 ],
 "metadata": {
  "kernelspec": {
   "display_name": "Python 3 (ipykernel)",
   "language": "python",
   "name": "python3"
  },
  "language_info": {
   "codemirror_mode": {
    "name": "ipython",
    "version": 3
   },
   "file_extension": ".py",
   "mimetype": "text/x-python",
   "name": "python",
   "nbconvert_exporter": "python",
   "pygments_lexer": "ipython3",
   "version": "3.8.10"
  }
 },
 "nbformat": 4,
 "nbformat_minor": 2
}
